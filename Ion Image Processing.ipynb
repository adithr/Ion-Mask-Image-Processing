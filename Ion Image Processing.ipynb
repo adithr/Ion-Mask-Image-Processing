{
 "cells": [
  {
   "cell_type": "code",
   "execution_count": 3,
   "metadata": {},
   "outputs": [],
   "source": [
    "import numpy as np\n",
    "import cv2\n",
    "%matplotlib inline\n",
    "import matplotlib.pyplot as plt\n",
    "import matplotlib.gridspec as gridspec\n",
    "import random\n"
   ]
  },
  {
   "cell_type": "markdown",
   "metadata": {},
   "source": [
    "### Helper Functions"
   ]
  },
  {
   "cell_type": "code",
   "execution_count": 76,
   "metadata": {},
   "outputs": [],
   "source": [
    "### Windowing Algorithm\n",
    "### make sure to be aware of the interchanging of y and x\n",
    "def window_algorithm(img_sample,window_resolution = 1, threshold=0.5):\n",
    "    \"\"\"\n",
    "    Scans the input picture and detects brightest regions which could be ions\n",
    "    It performs the scanning through a rectangular filter whose stride can be modified using window_resolution input\n",
    "    Returns ROI regions enclosed in rectangles\n",
    "    \n",
    "    Inputs:\n",
    "    1. img_sample: openCV frame object (cv2.imread(src,0))\n",
    "    2. window_resolution : stride of the moving rectangular filter\n",
    "    3. threshold : threshold for the ratio area occupied by the bright pixels inside rectangle/area of the rectangle\n",
    "    \n",
    "    \n",
    "    Outputs:\n",
    "    img_copy: Copy of the image with marked rectangular ROI\n",
    "    box_out : array of coordinates of rectangles corresponding to ROI (x,y)\n",
    "    \n",
    "    \"\"\"\n",
    "    _,img_thresh = cv2.threshold(img_sample,0,255,cv2.THRESH_BINARY+cv2.THRESH_OTSU)\n",
    "    #img_sample = img_thresh\n",
    "    img_copy = img_sample.copy()\n",
    "    img_sample = img_thresh\n",
    "    img_shape = img_sample.shape\n",
    "    window_resolution = 0.8# higher the resolution more sampling\n",
    "    window_size = np.array([15,15]) #np.array([img_shape[0]/10,img_shape[1]/10]).astype(int) # size of the square/rect window\n",
    "    start_coord, end_coord = np.array([0,0]), np.array([img_sample.shape[0],img_sample.shape[1]])\n",
    "    active_coord = np.array([0,0]) #beginning of the operation\n",
    "    i=0 # debug parameter\n",
    "    area_window= window_size[0]*window_size[1] #area of the window box\n",
    "\n",
    "    box_out = [] #list containing boxes\n",
    "    while(active_coord[0]<end_coord[0]-window_size[0]):\n",
    "        while (active_coord[1]<end_coord[1]-window_size[1]):\n",
    "            middle_coord = [int(active_coord[0] + window_size[0]/2), int(active_coord[1]+window_size[1]/2)] #centroid of rect\n",
    "            temp= (img_sample[middle_coord[0],middle_coord[1]] == 255).astype(int)\n",
    "            if temp==1:\n",
    "                #print('ggg')\n",
    "                # region occupied by the spot\n",
    "                white_region = np.argwhere(img_sample[active_coord[0]:active_coord[0] + window_size[0],\\\n",
    "                                                     active_coord[1]:active_coord[1] + window_size[1]] >200)\n",
    "                # compare the spot size to the area\n",
    "                if white_region.size/area_window > threshold:\n",
    "                    #print('white_region_size',white_region.size)\n",
    "                    #print(active_coord)\n",
    "                    # mark the spot window\n",
    "                    cv2.rectangle(img_copy, (active_coord[1],active_coord[0]),(active_coord[1]+window_size[1],active_coord[0] \\\n",
    "                                                                                 +window_size[0]),(255,0,0))\n",
    "                    # append it to box_out\n",
    "                    box_out.append([(active_coord[0],active_coord[1]),(active_coord[0]+window_size[0],active_coord[1] \\\n",
    "                                                                                 +window_size[1])])\n",
    "            # update window horizontally\n",
    "            active_coord[1] = active_coord[1] + int(window_size[1]/window_resolution)\n",
    "            #print(i)\n",
    "            i+=1\n",
    "\n",
    "        # update window vertically\n",
    "        active_coord[1] = start_coord[1]\n",
    "        active_coord[0] = active_coord[0] + int(window_size[1]/window_resolution)\n",
    "\n",
    "\n",
    "    return img_copy, box_out\n",
    "\n",
    "\n",
    "\n",
    "\n",
    "   \n",
    "### Looping Window Algorithm\n",
    "## Adaptive window resolution\n",
    "## Doesn't work well, can improve\n",
    "def window_algorithm_two_boxes(img_sample, threshold=0.5):\n",
    "    window_resolution_arr = np.arange(1,10,0.5)\n",
    "    for window_resolution in window_resolution_arr:\n",
    "        img_out,box_out = window_algorithm(img_sample,window_resolution = window_resolution, threshold=threshold)\n",
    "        if len(box_out) >= 2:\n",
    "            break\n",
    "    return img_out,box_out,window_resolution    \n",
    "\n",
    "\n",
    "# Arrange the boxes\n",
    "def box_arrange(box_out):\n",
    "    \"\"\"\n",
    "    Inputs:\n",
    "    Box_out : box_out output from window_algorithm function\n",
    "    \n",
    "    Outputs:\n",
    "    \n",
    "    xmax_arr, ymax_arr: array outputs corresponding to x,y coordinates of the rectangular borders\n",
    "    xmax_avg, ymax_avg : average length and breadth of the rectangular borders\n",
    "    \"\"\"\n",
    "    xmax_arr = []\n",
    "    ymax_arr = []\n",
    "    len_arr, breadth_arr = [],[]\n",
    "    for (i,j),(k,l) in box_out:\n",
    "        ymax_arr.append(int((i+k)/2))\n",
    "        xmax_arr.append(int((j+l)/2))\n",
    "        len_arr.append(np.abs(int(k-i)))\n",
    "        breadth_arr.append(np.abs(int(l-j)))\n",
    "        \n",
    "    xmax_avg = np.mean(breadth_arr)\n",
    "    ymax_avg = np.mean(len_arr)\n",
    "        \n",
    "    return xmax_arr,ymax_arr, xmax_avg, ymax_avg\n",
    "\n",
    "# function to find masks in a certain ROI\n",
    "def return_mask(img_crop,threshold=220, noOfPixels=15):\n",
    "    #img must be ROI\n",
    "    # noOfPixels denotes max no of pixels in the mask\n",
    "    #mask_black = np.argwhere((img_crop<threshold))\n",
    "    mask = np.zeros(img_crop.shape[:2], np.uint8)\n",
    "    #mask[50:100, 0:170] = 255 #choose ROI y,x \n",
    "\n",
    "    mask_white = np.argwhere((img_crop>threshold))[:noOfPixels]\n",
    "    for i,j in mask_white:\n",
    "        mask[i,j] = 255\n",
    "        #plt.imshow(img_crop,cmap='gray')\n",
    "        #plt.imshow(img_crop,cmap='gray')\n",
    "    masked_img = cv2.bitwise_and(img_crop,img_crop,mask = mask)    \n",
    "    return mask_white, masked_img\n",
    "\n",
    "# use xmax to set ROI\n",
    "# yrange is fixed\n",
    "def return_all_masks(img,xmax_arr,ymax_arr,threshold=220):\n",
    "    \"\"\"\n",
    "    Takes in x,y coordinate arrays of the marked ions and returns masks\n",
    "    \n",
    "    @Inputs: xmax_arr, ymax_arr\n",
    "    \n",
    "    @Returns: \n",
    "    \n",
    "    ions_masks : numpy array of masks with each index corresponding to the ion number\n",
    "    ions_masks_img: opencv frame object of each mask (only for debug/visualization purposes)\n",
    "    \n",
    "    \n",
    "    \"\"\"\n",
    "    \n",
    "    ylen = 15# y dimension of the mask\n",
    "    yrange =np.array([np.mean(ymax_arr)-ylen/2,np.mean(ymax_arr)+ylen/2]).astype(int)#[15,40] # CHANGE LATER TO ADAPT TO the box_out window size\n",
    "    xlen_half = int(np.mean(xmax_arr)/4) # average breadth of the boxes divided by 4\n",
    "    ions_masks = [] #initialize masks\n",
    "    ions_masks_img = []\n",
    "    for x in xmax_arr:\n",
    "        mask_temp,mask_img = return_mask(img[yrange[0]:yrange[1],x-xlen_half:x+xlen_half],threshold=threshold) #return masks for range [x-5,x+5]\n",
    "        for i in range(0,mask_temp.shape[0]):\n",
    "            mask_temp[i][1] += x #rescale x\n",
    "            mask_temp[i][0] += yrange[0] #rescale y\n",
    "        if mask_temp.size != 0:\n",
    "            ions_masks.append(mask_temp) #append masks to list\n",
    "            ions_masks_img.append(mask_img) #append mask image to list\n",
    "    return ions_masks,ions_masks_img\n",
    "\n"
   ]
  },
  {
   "cell_type": "markdown",
   "metadata": {},
   "source": [
    "### Main Function\n",
    "\n",
    "#### Returns the masks in raw form"
   ]
  },
  {
   "cell_type": "code",
   "execution_count": 84,
   "metadata": {},
   "outputs": [],
   "source": [
    "def calib_mask_generate(img,threshold=0.5):\n",
    "    \"\"\"\n",
    "    Generates masks from an input image\n",
    "    \n",
    "    Inputs: \n",
    "    1. img : OpenCV frame(?) object (cv2.imread(src,0))\n",
    "    \n",
    "    Outputs:\n",
    "    1. ions_masks: numpy array of all masks detected\n",
    "    2. ions_masks_img : array of opencv frame of individual masks\n",
    "    3. img_copy : Copy of image with the marked boxes (debug only)\n",
    "    \n",
    "    \n",
    "    \"\"\"\n",
    "    # window algorithm to mark the ions\n",
    "    img_copy, box_out = window_algorithm(img,window_resolution = 1, threshold=threshold)\n",
    "    \n",
    "    # get the x,y coordinates of the centroids of the marked ions (box_out)\n",
    "    xmax_arr, ymax_arr,_,_ = box_arrange(box_out)\n",
    "\n",
    "    # return masks from these x,y\n",
    "    ions_masks, ions_masks_img = return_all_masks(img,xmax_arr,ymax_arr)\n",
    "    \n",
    "    return ions_masks,ions_masks_img,img_copy"
   ]
  },
  {
   "cell_type": "markdown",
   "metadata": {},
   "source": [
    "#### Order Masks\n"
   ]
  },
  {
   "cell_type": "code",
   "execution_count": 85,
   "metadata": {},
   "outputs": [],
   "source": [
    "def rearrange_masks(masks):\n",
    "    \"\"\"\n",
    "    Rearranging the masks obtain from calib_masks_generate() as (x,y,ion_number)\n",
    "    \n",
    "    Input:\n",
    "    1. masks : return object from calib_masks_generate\n",
    "    \n",
    "    Outputs:\n",
    "    calib_sorted_arr: Sorted numpy array of the calibration masks in (x,y,ion number) format\n",
    "    \n",
    "    \n",
    "    \n",
    "    \"\"\"\n",
    "    ### Rearranging masks for thresholding\n",
    "    ions_masks = np.array(masks)\n",
    "    no_of_ions = ions_masks.shape[0]\n",
    "    ions_masked_reshaped=np.array(ions_masks).reshape(no_of_ions,-1,2)\n",
    "    ions_masked_reshaped_shape = ions_masked_reshaped.shape\n",
    "  \n",
    "    ions_masks_numbered = []\n",
    "    for i in range(0,ions_masked_reshaped_shape[0]):\n",
    "        for j in range(0,ions_masked_reshaped_shape[1]):\n",
    "            temp= np.append(ions_masked_reshaped[i,j],i+1)\n",
    "            ions_masks_numbered.append(tuple(temp))\n",
    "\n",
    "    ### Create a structure array with x,y, ion_no\n",
    "\n",
    "    calib_arr_dtype = [('y',int),('x',int),('ion_no',int)]\n",
    "    st_calib_arr = np.array(ions_masks_numbered,dtype =calib_arr_dtype)\n",
    "\n",
    "    calib_arr_sorted = np.sort(st_calib_arr,order ='y')\n",
    "    calib_arr_sorted[1][0]\n",
    "    \n",
    "    return calib_arr_sorted"
   ]
  },
  {
   "cell_type": "markdown",
   "metadata": {},
   "source": [
    "### Testing the function"
   ]
  },
  {
   "cell_type": "code",
   "execution_count": 86,
   "metadata": {},
   "outputs": [
    {
     "data": {
      "text/plain": [
       "<matplotlib.image.AxesImage at 0x2367a9b9eb0>"
      ]
     },
     "execution_count": 86,
     "metadata": {},
     "output_type": "execute_result"
    },
    {
     "data": {
      "image/png": "[encoded data removed]",
      "text/plain": [
       "<Figure size 432x288 with 1 Axes>"
      ]
     },
     "metadata": {
      "needs_background": "light"
     },
     "output_type": "display_data"
    }
   ],
   "source": [
    "#load Image\n",
    "src = 'test_image_grayscale.png' #'ions_test_image.jpg'\n",
    "img = cv2.imread(src,0)\n",
    "plt.imshow(img,cmap='gray')\n"
   ]
  },
  {
   "cell_type": "code",
   "execution_count": 89,
   "metadata": {},
   "outputs": [
    {
     "data": {
      "text/plain": [
       "<matplotlib.image.AxesImage at 0x2367b168be0>"
      ]
     },
     "execution_count": 89,
     "metadata": {},
     "output_type": "execute_result"
    },
    {
     "data": {
      "image/png": "[encoded data removed]",
      "text/plain": [
       "<Figure size 432x288 with 1 Axes>"
      ]
     },
     "metadata": {
      "needs_background": "light"
     },
     "output_type": "display_data"
    }
   ],
   "source": [
    "#Run calib_mask_generate\n",
    "src = 'test_image_grayscale.png'#'ions_test_image.jpg'\n",
    "img1 = cv2.imread(src,0)\n",
    "masks,_,img_out = calib_mask_generate(img1,threshold=0.)\n",
    "plt.imshow(img_out,cmap='gray')\n"
   ]
  },
  {
   "cell_type": "markdown",
   "metadata": {},
   "source": [
    "#### Rearrange Masks"
   ]
  },
  {
   "cell_type": "code",
   "execution_count": 90,
   "metadata": {},
   "outputs": [
    {
     "data": {
      "text/plain": [
       "array([(19,  33, 1), (19,  34, 1), (19,  35, 1), (19,  36, 1),\n",
       "       (19,  37, 1), (19,  38, 1), (19,  39, 1), (19,  56, 2),\n",
       "       (19,  57, 2), (19,  76, 3), (19,  77, 3), (19,  78, 3),\n",
       "       (19,  79, 3), (19,  79, 4), (19,  80, 3), (19,  80, 4),\n",
       "       (19,  81, 3), (19,  81, 4), (19, 109, 5), (19, 110, 5),\n",
       "       (19, 111, 5), (20,  33, 1), (20,  34, 1), (20,  35, 1),\n",
       "       (20,  36, 1), (20,  37, 1), (20,  38, 1), (20,  39, 1),\n",
       "       (20,  56, 2), (20,  57, 2), (20,  76, 3), (20,  77, 3),\n",
       "       (20,  78, 3), (20,  79, 3), (20,  79, 4), (20,  80, 3),\n",
       "       (20,  80, 4), (20,  81, 3), (20,  81, 4), (20, 109, 5),\n",
       "       (20, 110, 5), (20, 111, 5), (21,  33, 1), (21,  56, 2),\n",
       "       (21,  57, 2), (21,  76, 3), (21,  77, 3), (21,  78, 3),\n",
       "       (21,  79, 4), (21,  80, 4), (21,  81, 4), (21, 109, 5),\n",
       "       (21, 110, 5), (21, 111, 5), (22,  49, 2), (22,  50, 2),\n",
       "       (22,  51, 2), (22,  52, 2), (22,  53, 2), (22,  54, 2),\n",
       "       (22,  55, 2), (22,  56, 2), (22,  57, 2), (22,  79, 4),\n",
       "       (22,  80, 4), (22,  81, 4), (22,  82, 4), (22,  83, 4),\n",
       "       (22,  84, 4), (22,  97, 5), (22, 107, 5), (22, 108, 5),\n",
       "       (22, 109, 5), (22, 110, 5), (22, 111, 5)],\n",
       "      dtype=[('y', '<i4'), ('x', '<i4'), ('ion_no', '<i4')])"
      ]
     },
     "execution_count": 90,
     "metadata": {},
     "output_type": "execute_result"
    }
   ],
   "source": [
    "rearrange_masks(masks)"
   ]
  },
  {
   "cell_type": "markdown",
   "metadata": {},
   "source": [
    "### Save in Desired Format for Testbench"
   ]
  },
  {
   "cell_type": "markdown",
   "metadata": {},
   "source": [
    "The following two functions save the calibration masks and the image pixel data in a certain format commanded by the verilog modules\n",
    "\n",
    "The image pixels data is used as an input to the testbench verilog module. They are stored as 16 bit numbers in a line by line format. The coordinate of the pixel can be deciphered by looking at the '/' symbol. Each '/' symbol signifies a change in y (i.e, y-> y+1) and each new line corresponds to a change in x\n",
    "\n",
    "\n",
    "The calibration  masks are stored at single array of 48 bit numbers (16 bit x, 16 bit y and 16 bit ion number)\n",
    "\n"
   ]
  },
  {
   "cell_type": "code",
   "execution_count": 62,
   "metadata": {},
   "outputs": [],
   "source": [
    "# save image in the desired format for testbench\n",
    "def pix_save_testbench(src,filename='pix_data.txt'):\n",
    "    '''\n",
    "    src = input image path\n",
    "    filename = output file path\n",
    "    \n",
    "    ''' \n",
    "    img = cv2.imread(src,0)\n",
    "    with open(filename,'w') as fp:\n",
    "        for i in range(0,img.shape[0]):\n",
    "            fp.write('/\\n')\n",
    "            for j in range(0,img.shape[1]):\n",
    "                fp.write(str(img[i,j])+'\\n')\n",
    "        #fp.write('/\\n')\n"
   ]
  },
  {
   "cell_type": "code",
   "execution_count": null,
   "metadata": {},
   "outputs": [],
   "source": [
    "# write masks to file as 48 bit numbers\n",
    "def save_calib_sorted_file(calib_arr_sorted,fname = 'calibration_sorted_coord.txt'):\n",
    "    file_name = fname\n",
    "    with open(file_name,\"w\") as fp:\n",
    "        for i in range(0,len(calib_arr_sorted)):\n",
    "            print(calib_arr_sorted[i])\n",
    "            j,k,l = calib_arr_sorted[i]\n",
    "            y_bin = f\"{j+1:016b}\" #sub 1 to y  to match the verilog convention \n",
    "            x_bin = f\"{k+1:016b}\" # sub 1 to x\n",
    "            ion_no = f\"{l:016b}\"\n",
    "            fp.write(x_bin)\n",
    "            fp.write(\" \")\n",
    "            fp.write(str(y_bin)+' ')\n",
    "            fp.write(str(ion_no)+' ')\n",
    "            \n",
    "            \n",
    "save_calib_sorted_file(calib_arr_sorted)"
   ]
  }
 ],
 "metadata": {
  "kernelspec": {
   "display_name": "Python 3",
   "language": "python",
   "name": "python3"
  },
  "language_info": {
   "codemirror_mode": {
    "name": "ipython",
    "version": 3
   },
   "file_extension": ".py",
   "mimetype": "text/x-python",
   "name": "python",
   "nbconvert_exporter": "python",
   "pygments_lexer": "ipython3",
   "version": "3.8.3"
  }
 },
 "nbformat": 4,
 "nbformat_minor": 4
}
